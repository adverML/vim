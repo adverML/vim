{
 "cells": [
  {
   "cell_type": "code",
   "execution_count": 2,
   "id": "c5d0b7f8-2324-4a11-b651-5277c3b9e9b6",
   "metadata": {},
   "outputs": [],
   "source": [
    "import numpy as np\n",
    "import foolbox as fb"
   ]
  },
  {
   "cell_type": "code",
   "execution_count": 7,
   "id": "3808dd5f-3dc8-424d-86ad-cc26743a8ed8",
   "metadata": {},
   "outputs": [],
   "source": [
    "test = \"/home/lorenzp/workspace/competence_estimation/features/cifar10/features_resnet18_test.npy\""
   ]
  },
  {
   "cell_type": "code",
   "execution_count": 8,
   "id": "34d6f345-3798-4bbb-aeda-30a1bc3fa7bf",
   "metadata": {},
   "outputs": [],
   "source": [
    "test_np = np.load(test)"
   ]
  },
  {
   "cell_type": "code",
   "execution_count": null,
   "id": "215f435c-5b03-468a-9add-2223c09378bd",
   "metadata": {},
   "outputs": [],
   "source": []
  }
 ],
 "metadata": {
  "kernelspec": {
   "display_name": "Python [conda env:.conda-cuda--11-1-1--pytorch--1-9-0]",
   "language": "python",
   "name": "conda-env-.conda-cuda--11-1-1--pytorch--1-9-0-py"
  },
  "language_info": {
   "codemirror_mode": {
    "name": "ipython",
    "version": 3
   },
   "file_extension": ".py",
   "mimetype": "text/x-python",
   "name": "python",
   "nbconvert_exporter": "python",
   "pygments_lexer": "ipython3",
   "version": "3.9.10"
  }
 },
 "nbformat": 4,
 "nbformat_minor": 5
}
